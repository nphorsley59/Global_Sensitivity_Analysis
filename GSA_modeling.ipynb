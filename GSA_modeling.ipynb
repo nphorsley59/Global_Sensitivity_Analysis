{
 "cells": [
  {
   "cell_type": "markdown",
   "metadata": {},
   "source": [
    "# 1. Setup Environment"
   ]
  },
  {
   "cell_type": "markdown",
   "metadata": {},
   "source": [
    "### 1.1. Libraries"
   ]
  },
  {
   "cell_type": "code",
   "execution_count": 1,
   "metadata": {},
   "outputs": [],
   "source": [
    "import matplotlib.pyplot as plt\n",
    "import numpy as np\n",
    "import pandas as pd\n",
    "import seaborn as sns\n",
    "\n",
    "from sklearn.decomposition import PCA\n",
    "from sklearn.ensemble import GradientBoostingRegressor\n",
    "from sklearn.metrics import mean_squared_error\n",
    "from sklearn.model_selection import cross_val_score, RepeatedKFold, train_test_split\n",
    "from sklearn.model_selection import GridSearchCV, learning_curve, validation_curve\n",
    "from sklearn.pipeline import make_pipeline\n",
    "from sklearn.preprocessing import StandardScaler\n",
    "from xgboost import XGBRegressor\n",
    "\n",
    "%matplotlib inline\n",
    "\n",
    "pd.options.display.max_rows = None\n",
    "pd.options.display.max_columns = None\n",
    "\n",
    "from IPython.core.interactiveshell import InteractiveShell\n",
    "InteractiveShell.ast_node_interactivity = \"all\""
   ]
  },
  {
   "cell_type": "markdown",
   "metadata": {},
   "source": [
    "### 1.2. Import Dataset"
   ]
  },
  {
   "cell_type": "code",
   "execution_count": 2,
   "metadata": {},
   "outputs": [],
   "source": [
    "data = pd.read_csv(r'C:\\Users\\Work\\Desktop\\MS Pub\\GSA\\grackle_20k8p_illinois_rob_log.csv')"
   ]
  },
  {
   "cell_type": "code",
   "execution_count": 3,
   "metadata": {},
   "outputs": [
    {
     "data": {
      "text/html": [
       "<div>\n",
       "<style scoped>\n",
       "    .dataframe tbody tr th:only-of-type {\n",
       "        vertical-align: middle;\n",
       "    }\n",
       "\n",
       "    .dataframe tbody tr th {\n",
       "        vertical-align: top;\n",
       "    }\n",
       "\n",
       "    .dataframe thead th {\n",
       "        text-align: right;\n",
       "    }\n",
       "</style>\n",
       "<table border=\"1\" class=\"dataframe\">\n",
       "  <thead>\n",
       "    <tr style=\"text-align: right;\">\n",
       "      <th></th>\n",
       "      <th>ID</th>\n",
       "      <th>ClutchSize</th>\n",
       "      <th>FledgeRate</th>\n",
       "      <th>FledglingSurvival</th>\n",
       "      <th>InitialAbundance</th>\n",
       "      <th>JuvenileSurvival</th>\n",
       "      <th>AdultSurvival</th>\n",
       "      <th>SYBreeding</th>\n",
       "      <th>ASYBreeding</th>\n",
       "      <th>Output</th>\n",
       "    </tr>\n",
       "  </thead>\n",
       "  <tbody>\n",
       "    <tr>\n",
       "      <th>14149</th>\n",
       "      <td>14425</td>\n",
       "      <td>4.477210</td>\n",
       "      <td>0.355275</td>\n",
       "      <td>0.589385</td>\n",
       "      <td>2.803880e+06</td>\n",
       "      <td>0.550145</td>\n",
       "      <td>0.657985</td>\n",
       "      <td>0.891454</td>\n",
       "      <td>0.974632</td>\n",
       "      <td>9.942919</td>\n",
       "    </tr>\n",
       "    <tr>\n",
       "      <th>715</th>\n",
       "      <td>727</td>\n",
       "      <td>4.554173</td>\n",
       "      <td>0.344816</td>\n",
       "      <td>0.617570</td>\n",
       "      <td>2.814817e+06</td>\n",
       "      <td>0.575317</td>\n",
       "      <td>0.683727</td>\n",
       "      <td>0.867456</td>\n",
       "      <td>0.905035</td>\n",
       "      <td>11.465621</td>\n",
       "    </tr>\n",
       "    <tr>\n",
       "      <th>8423</th>\n",
       "      <td>8577</td>\n",
       "      <td>4.377170</td>\n",
       "      <td>0.358492</td>\n",
       "      <td>0.612936</td>\n",
       "      <td>2.793981e+06</td>\n",
       "      <td>0.536203</td>\n",
       "      <td>0.706876</td>\n",
       "      <td>0.869904</td>\n",
       "      <td>0.993762</td>\n",
       "      <td>12.546217</td>\n",
       "    </tr>\n",
       "    <tr>\n",
       "      <th>14987</th>\n",
       "      <td>15284</td>\n",
       "      <td>4.318944</td>\n",
       "      <td>0.343387</td>\n",
       "      <td>0.645207</td>\n",
       "      <td>2.827664e+06</td>\n",
       "      <td>0.551538</td>\n",
       "      <td>0.706921</td>\n",
       "      <td>0.867893</td>\n",
       "      <td>0.909699</td>\n",
       "      <td>12.135617</td>\n",
       "    </tr>\n",
       "    <tr>\n",
       "      <th>6054</th>\n",
       "      <td>6158</td>\n",
       "      <td>4.212432</td>\n",
       "      <td>0.350349</td>\n",
       "      <td>0.597950</td>\n",
       "      <td>2.816870e+06</td>\n",
       "      <td>0.578185</td>\n",
       "      <td>0.665341</td>\n",
       "      <td>0.882254</td>\n",
       "      <td>0.924835</td>\n",
       "      <td>9.478666</td>\n",
       "    </tr>\n",
       "  </tbody>\n",
       "</table>\n",
       "</div>"
      ],
      "text/plain": [
       "          ID  ClutchSize  FledgeRate  FledglingSurvival  InitialAbundance  \\\n",
       "14149  14425    4.477210    0.355275           0.589385      2.803880e+06   \n",
       "715      727    4.554173    0.344816           0.617570      2.814817e+06   \n",
       "8423    8577    4.377170    0.358492           0.612936      2.793981e+06   \n",
       "14987  15284    4.318944    0.343387           0.645207      2.827664e+06   \n",
       "6054    6158    4.212432    0.350349           0.597950      2.816870e+06   \n",
       "\n",
       "       JuvenileSurvival  AdultSurvival  SYBreeding  ASYBreeding     Output  \n",
       "14149          0.550145       0.657985    0.891454     0.974632   9.942919  \n",
       "715            0.575317       0.683727    0.867456     0.905035  11.465621  \n",
       "8423           0.536203       0.706876    0.869904     0.993762  12.546217  \n",
       "14987          0.551538       0.706921    0.867893     0.909699  12.135617  \n",
       "6054           0.578185       0.665341    0.882254     0.924835   9.478666  "
      ]
     },
     "execution_count": 3,
     "metadata": {},
     "output_type": "execute_result"
    },
    {
     "data": {
      "text/plain": [
       "(19620, 10)"
      ]
     },
     "execution_count": 3,
     "metadata": {},
     "output_type": "execute_result"
    }
   ],
   "source": [
    "data.sample(5)\n",
    "data.shape"
   ]
  },
  {
   "cell_type": "code",
   "execution_count": 4,
   "metadata": {},
   "outputs": [],
   "source": [
    "parameter_labels = ['ClutchSize', 'FledgeRate', 'FledglingSurvival', 'InitialAbundance', 'JuvenileSurvival', 'AdultSurvival',\n",
    "                    'SYBreeding', 'ASYBreeding']"
   ]
  },
  {
   "cell_type": "markdown",
   "metadata": {},
   "source": [
    "# 2. Data Preparation"
   ]
  },
  {
   "cell_type": "code",
   "execution_count": 5,
   "metadata": {},
   "outputs": [],
   "source": [
    "ID = data['ID']\n",
    "data.drop('ID', axis=1, inplace=True)"
   ]
  },
  {
   "cell_type": "code",
   "execution_count": 6,
   "metadata": {},
   "outputs": [],
   "source": [
    "X = data.drop('Output', axis=1)\n",
    "y = data['Output']"
   ]
  },
  {
   "cell_type": "code",
   "execution_count": 7,
   "metadata": {},
   "outputs": [],
   "source": [
    "X_train, X_test, y_train, y_test = train_test_split(X, y, random_state=42, shuffle=True)"
   ]
  },
  {
   "cell_type": "code",
   "execution_count": 8,
   "metadata": {},
   "outputs": [
    {
     "data": {
      "text/plain": [
       "(14715, 8)"
      ]
     },
     "execution_count": 8,
     "metadata": {},
     "output_type": "execute_result"
    },
    {
     "data": {
      "text/plain": [
       "(14715,)"
      ]
     },
     "execution_count": 8,
     "metadata": {},
     "output_type": "execute_result"
    },
    {
     "data": {
      "text/plain": [
       "(4905, 8)"
      ]
     },
     "execution_count": 8,
     "metadata": {},
     "output_type": "execute_result"
    },
    {
     "data": {
      "text/plain": [
       "(4905,)"
      ]
     },
     "execution_count": 8,
     "metadata": {},
     "output_type": "execute_result"
    }
   ],
   "source": [
    "X_train.shape\n",
    "y_train.shape\n",
    "X_test.shape\n",
    "y_test.shape"
   ]
  },
  {
   "cell_type": "markdown",
   "metadata": {},
   "source": [
    "# 3. Preprocessing and Validation"
   ]
  },
  {
   "cell_type": "markdown",
   "metadata": {},
   "source": [
    "### 3.1. Transformers"
   ]
  },
  {
   "cell_type": "code",
   "execution_count": 9,
   "metadata": {},
   "outputs": [],
   "source": [
    "# std = StandardScaler()"
   ]
  },
  {
   "cell_type": "markdown",
   "metadata": {},
   "source": [
    "### 3.2. Cross Validation"
   ]
  },
  {
   "cell_type": "code",
   "execution_count": 10,
   "metadata": {},
   "outputs": [],
   "source": [
    "kfold = RepeatedKFold(n_splits=10, n_repeats=10, random_state=42)\n",
    "\n",
    "def cv_score(est, X, y, cv):\n",
    "    score = np.sqrt(-cross_val_score(estimator=est, X=X, y=y, scoring='neg_mean_squared_error', cv=kfold, n_jobs=-1))\n",
    "    return [score.mean(), score.std()]"
   ]
  },
  {
   "cell_type": "markdown",
   "metadata": {},
   "source": [
    "# 4. Build Models"
   ]
  },
  {
   "cell_type": "markdown",
   "metadata": {},
   "source": [
    "### 4.1. Algorithms"
   ]
  },
  {
   "cell_type": "code",
   "execution_count": 11,
   "metadata": {},
   "outputs": [],
   "source": [
    "gbr = GradientBoostingRegressor(n_estimators=300, max_depth=3, learning_rate=0.05, subsample=0.8)\n",
    "xgb = XGBRegressor(n_estimators=250, max_depth=3, learning_rate=0.05, subsample=0.8)"
   ]
  },
  {
   "cell_type": "markdown",
   "metadata": {},
   "source": [
    "### 4.2. Pipelines"
   ]
  },
  {
   "cell_type": "code",
   "execution_count": 12,
   "metadata": {},
   "outputs": [],
   "source": [
    "gbr_pipe = make_pipeline(gbr)\n",
    "xgb_pipe = make_pipeline(xgb)"
   ]
  },
  {
   "cell_type": "markdown",
   "metadata": {},
   "source": [
    "### 4.3. Scoring"
   ]
  },
  {
   "cell_type": "code",
   "execution_count": 13,
   "metadata": {},
   "outputs": [
    {
     "name": "stdout",
     "output_type": "stream",
     "text": [
      "GBoost RMSE: 0.1550 (0.0031)\n"
     ]
    }
   ],
   "source": [
    "gbr_results = cv_score(gbr_pipe, X_train, y_train, kfold)\n",
    "print('GBoost RMSE: {:.4f} ({:.4f})'.format(gbr_results[0], gbr_results[1]))"
   ]
  },
  {
   "cell_type": "code",
   "execution_count": 14,
   "metadata": {},
   "outputs": [
    {
     "name": "stdout",
     "output_type": "stream",
     "text": [
      "XGBoost RMSE: 0.1661 (0.0036)\n"
     ]
    }
   ],
   "source": [
    "xgb_results = cv_score(xgb_pipe, X_train, y_train, kfold)\n",
    "print('XGBoost RMSE: {:.4f} ({:.4f})'.format(xgb_results[0], xgb_results[1]))"
   ]
  },
  {
   "cell_type": "markdown",
   "metadata": {},
   "source": [
    "### 4.4. Tuning"
   ]
  },
  {
   "cell_type": "code",
   "execution_count": null,
   "metadata": {},
   "outputs": [],
   "source": [
    "grid_search = GridSearchCV(gbr,\n",
    "                           param_grid={'learning_rate': [0.01, 0.05, 0.1],\n",
    "                                       'n_estimators': [300, 400, 500]},\n",
    "                           scoring='neg_mean_squared_error',\n",
    "                           n_jobs=-1)"
   ]
  },
  {
   "cell_type": "code",
   "execution_count": null,
   "metadata": {},
   "outputs": [],
   "source": [
    "grid_search.fit(X_train, y_train)"
   ]
  },
  {
   "cell_type": "code",
   "execution_count": null,
   "metadata": {},
   "outputs": [],
   "source": [
    "grid_search.best_params_"
   ]
  },
  {
   "cell_type": "code",
   "execution_count": null,
   "metadata": {},
   "outputs": [],
   "source": [
    "train_sizes, train_scores, test_scores = learning_curve(estimator=gbr_pipe,\n",
    "                                                        X=X_train,\n",
    "                                                        y=y_train,\n",
    "                                                        train_sizes=np.linspace(0.075, 1.0, 15),\n",
    "                                                        cv=10,\n",
    "                                                        scoring='neg_mean_squared_error',\n",
    "                                                        n_jobs=-1)"
   ]
  },
  {
   "cell_type": "code",
   "execution_count": null,
   "metadata": {},
   "outputs": [],
   "source": [
    "train_mean = np.mean(train_scores, axis=1)\n",
    "train_std = np.std(train_scores, axis=1)\n",
    "test_mean = np.mean(test_scores, axis=1)\n",
    "test_std = np.std(test_scores, axis=1)"
   ]
  },
  {
   "cell_type": "code",
   "execution_count": null,
   "metadata": {},
   "outputs": [],
   "source": [
    "plt.plot(train_sizes, train_mean, color='steelblue', marker='o', markersize=5, label='Training Score')\n",
    "plt.fill_between(train_sizes, train_mean + train_std, train_mean - train_std, alpha=0.15, color='steelblue')\n",
    "\n",
    "plt.plot(train_sizes, test_mean, color='dimgrey', linestyle='--', marker='s', markersize=5, label='Validation Score')\n",
    "plt.fill_between(train_sizes, test_mean + test_std, test_mean - test_std, alpha=0.15, color='dimgrey')\n",
    "\n",
    "plt.grid()\n",
    "plt.xlabel('Number of Training Samples')\n",
    "plt.ylabel('MSE')\n",
    "plt.legend(loc='upper right')\n",
    "plt.show()"
   ]
  },
  {
   "cell_type": "code",
   "execution_count": null,
   "metadata": {},
   "outputs": [],
   "source": [
    "learning_rate_range = [0.005, 0.01, 0.05, 0.1]"
   ]
  },
  {
   "cell_type": "code",
   "execution_count": 49,
   "metadata": {},
   "outputs": [],
   "source": [
    "train_scores, test_scores = validation_curve(estimator=gbr_pipe, X=X_train, y=y_train, \n",
    "                                             param_name='gradientboostingregressor__learning_rate',\n",
    "                                             param_range=learning_rate_range, cv=10,\n",
    "                                             scoring='neg_mean_squared_error')"
   ]
  },
  {
   "cell_type": "code",
   "execution_count": 50,
   "metadata": {},
   "outputs": [],
   "source": [
    "train_mean = np.mean(train_scores, axis=1)\n",
    "train_std = np.std(train_scores, axis=1)\n",
    "test_mean = np.mean(test_scores, axis=1)\n",
    "test_std = np.std(test_scores, axis=1)"
   ]
  },
  {
   "cell_type": "code",
   "execution_count": 51,
   "metadata": {
    "scrolled": false
   },
   "outputs": [
    {
     "data": {
      "text/plain": [
       "[<matplotlib.lines.Line2D at 0x2917e7572c8>]"
      ]
     },
     "execution_count": 51,
     "metadata": {},
     "output_type": "execute_result"
    },
    {
     "data": {
      "text/plain": [
       "<matplotlib.collections.PolyCollection at 0x2917e76c2c8>"
      ]
     },
     "execution_count": 51,
     "metadata": {},
     "output_type": "execute_result"
    },
    {
     "data": {
      "text/plain": [
       "[<matplotlib.lines.Line2D at 0x2917e751888>]"
      ]
     },
     "execution_count": 51,
     "metadata": {},
     "output_type": "execute_result"
    },
    {
     "data": {
      "text/plain": [
       "<matplotlib.collections.PolyCollection at 0x2917e76cc08>"
      ]
     },
     "execution_count": 51,
     "metadata": {},
     "output_type": "execute_result"
    },
    {
     "data": {
      "text/plain": [
       "<matplotlib.legend.Legend at 0x2917e72a808>"
      ]
     },
     "execution_count": 51,
     "metadata": {},
     "output_type": "execute_result"
    },
    {
     "data": {
      "image/png": "[encoded data removed]",
      "text/plain": [
       "<Figure size 432x288 with 1 Axes>"
      ]
     },
     "metadata": {
      "needs_background": "light"
     },
     "output_type": "display_data"
    }
   ],
   "source": [
    "plt.plot(learning_rate_range, train_mean, color='steelblue', marker='o', markersize=5, label='Training Accuracy')\n",
    "plt.fill_between(learning_rate_range, train_mean + train_std, train_mean - train_std, alpha=0.15, color='steelblue')\n",
    "\n",
    "plt.plot(learning_rate_range, test_mean, color='dimgrey', linestyle='--', marker='s', markersize=5, label='Validation Accuracy')\n",
    "plt.fill_between(learning_rate_range, test_mean + test_std, test_mean - test_std, alpha=0.15, color='dimgrey')\n",
    "\n",
    "plt.grid()\n",
    "plt.legend(loc='lower right')\n",
    "plt.show()"
   ]
  },
  {
   "cell_type": "code",
   "execution_count": 56,
   "metadata": {},
   "outputs": [],
   "source": [
    "n_estimators_range = np.arange(150, 450, 50)"
   ]
  },
  {
   "cell_type": "code",
   "execution_count": 57,
   "metadata": {},
   "outputs": [],
   "source": [
    "train_scores, test_scores = validation_curve(estimator=gbr_pipe, X=X_train, y=y_train, \n",
    "                                             param_name='gradientboostingregressor__n_estimators',\n",
    "                                             param_range=n_estimators_range, cv=10,\n",
    "                                             scoring='neg_mean_squared_error')"
   ]
  },
  {
   "cell_type": "code",
   "execution_count": 58,
   "metadata": {},
   "outputs": [],
   "source": [
    "train_mean = np.mean(train_scores, axis=1)\n",
    "train_std = np.std(train_scores, axis=1)\n",
    "test_mean = np.mean(test_scores, axis=1)\n",
    "test_std = np.std(test_scores, axis=1)"
   ]
  },
  {
   "cell_type": "code",
   "execution_count": 59,
   "metadata": {},
   "outputs": [
    {
     "data": {
      "text/plain": [
       "[<matplotlib.lines.Line2D at 0x2917e875208>]"
      ]
     },
     "execution_count": 59,
     "metadata": {},
     "output_type": "execute_result"
    },
    {
     "data": {
      "text/plain": [
       "<matplotlib.collections.PolyCollection at 0x2917e87c288>"
      ]
     },
     "execution_count": 59,
     "metadata": {},
     "output_type": "execute_result"
    },
    {
     "data": {
      "text/plain": [
       "[<matplotlib.lines.Line2D at 0x2917e7a1c48>]"
      ]
     },
     "execution_count": 59,
     "metadata": {},
     "output_type": "execute_result"
    },
    {
     "data": {
      "text/plain": [
       "<matplotlib.collections.PolyCollection at 0x2917e87cbc8>"
      ]
     },
     "execution_count": 59,
     "metadata": {},
     "output_type": "execute_result"
    },
    {
     "data": {
      "text/plain": [
       "<matplotlib.legend.Legend at 0x2917e868d88>"
      ]
     },
     "execution_count": 59,
     "metadata": {},
     "output_type": "execute_result"
    },
    {
     "data": {
      "image/png": "[encoded data removed]",
      "text/plain": [
       "<Figure size 432x288 with 1 Axes>"
      ]
     },
     "metadata": {
      "needs_background": "light"
     },
     "output_type": "display_data"
    }
   ],
   "source": [
    "plt.plot(n_estimators_range, train_mean, color='steelblue', marker='o', markersize=5, label='Training Accuracy')\n",
    "plt.fill_between(n_estimators_range, train_mean + train_std, train_mean - train_std, alpha=0.15, color='steelblue')\n",
    "\n",
    "plt.plot(n_estimators_range, test_mean, color='dimgrey', linestyle='--', marker='s', markersize=5, label='Validation Accuracy')\n",
    "plt.fill_between(n_estimators_range, test_mean + test_std, test_mean - test_std, alpha=0.15, color='dimgrey')\n",
    "\n",
    "plt.grid()\n",
    "plt.legend(loc='lower right')\n",
    "plt.show()"
   ]
  },
  {
   "cell_type": "markdown",
   "metadata": {},
   "source": [
    "### 4.5. Predictions"
   ]
  },
  {
   "cell_type": "code",
   "execution_count": 15,
   "metadata": {},
   "outputs": [
    {
     "data": {
      "text/plain": [
       "Pipeline(steps=[('gradientboostingregressor',\n",
       "                 GradientBoostingRegressor(learning_rate=0.05, n_estimators=300,\n",
       "                                           subsample=0.8))])"
      ]
     },
     "execution_count": 15,
     "metadata": {},
     "output_type": "execute_result"
    }
   ],
   "source": [
    "gbr_pipe.fit(X_train, y_train)"
   ]
  },
  {
   "cell_type": "code",
   "execution_count": 16,
   "metadata": {},
   "outputs": [],
   "source": [
    "y_pred = gbr_pipe.predict(X_test)"
   ]
  },
  {
   "cell_type": "markdown",
   "metadata": {},
   "source": [
    "### 4.6. Figures"
   ]
  },
  {
   "cell_type": "code",
   "execution_count": 17,
   "metadata": {},
   "outputs": [],
   "source": [
    "featureImportance = gbr_pipe[0].fit(X_train, y_train).feature_importances_ * 100\n",
    "cleanLabels = ['Clutch Size', 'Fledge Rate', 'Fledgling Survival', 'Initial Abundance', 'Juvenile Survival',\n",
    "               'Adult Survival', 'Breeding Success (SY)', 'Breeding Success (ASY)']"
   ]
  },
  {
   "cell_type": "code",
   "execution_count": 18,
   "metadata": {},
   "outputs": [],
   "source": [
    "importance_df = pd.DataFrame(featureImportance, columns=['Relative Influence'], index=cleanLabels)\n",
    "importance_sorted = importance_df.sort_values(by='Relative Influence', axis=0, ascending=False)"
   ]
  },
  {
   "cell_type": "code",
   "execution_count": 21,
   "metadata": {},
   "outputs": [
    {
     "data": {
      "text/html": [
       "<div>\n",
       "<style scoped>\n",
       "    .dataframe tbody tr th:only-of-type {\n",
       "        vertical-align: middle;\n",
       "    }\n",
       "\n",
       "    .dataframe tbody tr th {\n",
       "        vertical-align: top;\n",
       "    }\n",
       "\n",
       "    .dataframe thead th {\n",
       "        text-align: right;\n",
       "    }\n",
       "</style>\n",
       "<table border=\"1\" class=\"dataframe\">\n",
       "  <thead>\n",
       "    <tr style=\"text-align: right;\">\n",
       "      <th></th>\n",
       "      <th>Relative Influence</th>\n",
       "    </tr>\n",
       "  </thead>\n",
       "  <tbody>\n",
       "    <tr>\n",
       "      <th>Adult Survival</th>\n",
       "      <td>61.548688</td>\n",
       "    </tr>\n",
       "    <tr>\n",
       "      <th>Fledgling Survival</th>\n",
       "      <td>8.626054</td>\n",
       "    </tr>\n",
       "    <tr>\n",
       "      <th>Juvenile Survival</th>\n",
       "      <td>8.347477</td>\n",
       "    </tr>\n",
       "    <tr>\n",
       "      <th>Fledge Rate</th>\n",
       "      <td>8.230254</td>\n",
       "    </tr>\n",
       "    <tr>\n",
       "      <th>Clutch Size</th>\n",
       "      <td>8.213224</td>\n",
       "    </tr>\n",
       "    <tr>\n",
       "      <th>Breeding Success (ASY)</th>\n",
       "      <td>4.400107</td>\n",
       "    </tr>\n",
       "    <tr>\n",
       "      <th>Breeding Success (SY)</th>\n",
       "      <td>0.584741</td>\n",
       "    </tr>\n",
       "    <tr>\n",
       "      <th>Initial Abundance</th>\n",
       "      <td>0.049456</td>\n",
       "    </tr>\n",
       "  </tbody>\n",
       "</table>\n",
       "</div>"
      ],
      "text/plain": [
       "                        Relative Influence\n",
       "Adult Survival                   61.548688\n",
       "Fledgling Survival                8.626054\n",
       "Juvenile Survival                 8.347477\n",
       "Fledge Rate                       8.230254\n",
       "Clutch Size                       8.213224\n",
       "Breeding Success (ASY)            4.400107\n",
       "Breeding Success (SY)             0.584741\n",
       "Initial Abundance                 0.049456"
      ]
     },
     "execution_count": 21,
     "metadata": {},
     "output_type": "execute_result"
    }
   ],
   "source": [
    "importance_sorted"
   ]
  },
  {
   "cell_type": "code",
   "execution_count": 27,
   "metadata": {},
   "outputs": [
    {
     "data": {
      "text/plain": [
       "<AxesSubplot:xlabel='Relative Influence'>"
      ]
     },
     "execution_count": 27,
     "metadata": {},
     "output_type": "execute_result"
    },
    {
     "data": {
      "image/png": "[encoded data removed]",
      "text/plain": [
       "<Figure size 576x360 with 1 Axes>"
      ]
     },
     "metadata": {},
     "output_type": "display_data"
    }
   ],
   "source": [
    "sns.set_style('whitegrid')\n",
    "\n",
    "fig, ax = plt.subplots(figsize=(8, 5))\n",
    "sns.barplot(y=importance_sorted.index, x='Relative Influence', data=importance_sorted, color='dimgray')\n",
    "\n",
    "fig.tight_layout()\n",
    "fig.savefig(r'C:\\Users\\Work\\Desktop\\MS Pub\\GSA\\relative_influence_illinois.png')"
   ]
  },
  {
   "cell_type": "code",
   "execution_count": 36,
   "metadata": {},
   "outputs": [
    {
     "data": {
      "text/plain": [
       "<AxesSubplot:ylabel='Output'>"
      ]
     },
     "execution_count": 36,
     "metadata": {},
     "output_type": "execute_result"
    },
    {
     "data": {
      "text/plain": [
       "Text(0.5, 0, 'Predicted Output (log)')"
      ]
     },
     "execution_count": 36,
     "metadata": {},
     "output_type": "execute_result"
    },
    {
     "data": {
      "text/plain": [
       "Text(0, 0.5, 'Actual Output (log)')"
      ]
     },
     "execution_count": 36,
     "metadata": {},
     "output_type": "execute_result"
    },
    {
     "data": {
      "text/plain": [
       "(8.5, 12.5)"
      ]
     },
     "execution_count": 36,
     "metadata": {},
     "output_type": "execute_result"
    },
    {
     "data": {
      "text/plain": [
       "(8.5, 12.5)"
      ]
     },
     "execution_count": 36,
     "metadata": {},
     "output_type": "execute_result"
    },
    {
     "data": {
      "image/png": "[encoded data removed]",
      "text/plain": [
       "<Figure size 432x432 with 1 Axes>"
      ]
     },
     "metadata": {},
     "output_type": "display_data"
    }
   ],
   "source": [
    "fig, ax = plt.subplots(figsize=(6, 6))\n",
    "sns.scatterplot(x=y_pred, y=y_test, color='dimgray', edgecolor=None, alpha= 0.3)\n",
    "# ax.plot([8.5, 12.5], [8.5, 12.5], c = 'red', alpha=0.7)\n",
    "ax.set_xlabel('Predicted Output (log)', fontsize=12)\n",
    "ax.set_ylabel('Actual Output (log)', fontsize=12)\n",
    "ax.set_xlim(8.5, 12.5)\n",
    "ax.set_ylim(8.5, 12.5)\n",
    "\n",
    "fig.tight_layout()\n",
    "fig.savefig(r'C:\\Users\\Work\\Desktop\\MS Pub\\GSA\\observed_predicted_illinois.png')"
   ]
  },
  {
   "cell_type": "code",
   "execution_count": null,
   "metadata": {},
   "outputs": [],
   "source": []
  }
 ],
 "metadata": {
  "kernelspec": {
   "display_name": "Python 3",
   "language": "python",
   "name": "python3"
  },
  "language_info": {
   "codemirror_mode": {
    "name": "ipython",
    "version": 3
   },
   "file_extension": ".py",
   "mimetype": "text/x-python",
   "name": "python",
   "nbconvert_exporter": "python",
   "pygments_lexer": "ipython3",
   "version": "3.7.9"
  }
 },
 "nbformat": 4,
 "nbformat_minor": 4
}
