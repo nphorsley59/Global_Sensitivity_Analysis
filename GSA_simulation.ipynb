{
 "cells": [
  {
   "cell_type": "markdown",
   "metadata": {},
   "source": [
    "# 1. Setup Environment"
   ]
  },
  {
   "cell_type": "code",
   "execution_count": 203,
   "metadata": {},
   "outputs": [],
   "source": [
    "import copy\n",
    "import math\n",
    "import matplotlib.pyplot as plt\n",
    "import numpy as np\n",
    "import pandas as pd \n",
    "import statistics as stats\n",
    "import seaborn as sns\n",
    "\n",
    "from skopt.sampler import Lhs\n",
    "from skopt.space import Space\n",
    "\n",
    "%matplotlib inline\n",
    "\n",
    "pd.options.display.max_rows = 200\n",
    "pd.options.display.max_columns = None\n",
    "\n",
    "from IPython.core.interactiveshell import InteractiveShell\n",
    "InteractiveShell.ast_node_interactivity = \"all\""
   ]
  },
  {
   "cell_type": "markdown",
   "metadata": {},
   "source": [
    "# 2. Simulation Inputs"
   ]
  },
  {
   "cell_type": "markdown",
   "metadata": {},
   "source": [
    "### 2.1. General Settings"
   ]
  },
  {
   "cell_type": "code",
   "execution_count": 204,
   "metadata": {},
   "outputs": [],
   "source": [
    "sample_size = 20000 # number of unique simulations\n",
    "run_time = 50 # number of years in each simulation\n",
    "parameter_count = 8 # number of survival parameters in the algorithm"
   ]
  },
  {
   "cell_type": "markdown",
   "metadata": {},
   "source": [
    "### 2.2. Survival Parameters\n",
    "- Each parameter is assigned a range from which values will be sampled"
   ]
  },
  {
   "cell_type": "code",
   "execution_count": 205,
   "metadata": {},
   "outputs": [],
   "source": [
    "parameter_labels = ['ClutchSize', 'FledgeRate', 'FledglingSurvival', 'InitialAbundance', 'JuvenileSurvival', 'AdultSurvival',\n",
    "                    'SYBreeding', 'ASYBreeding']"
   ]
  },
  {
   "cell_type": "code",
   "execution_count": 206,
   "metadata": {},
   "outputs": [],
   "source": [
    "# known\n",
    "lower_ClutchSize, upper_ClutchSize = 4.137, 4.572\n",
    "lower_FledgeRate, upper_FledgeRate = 0.343, 0.379\n",
    "lower_FledglingSurvival, upper_FledglingSurvival = 0.586, 0.648\n",
    "lower_InitialAbundance, upper_InitialAbundance = 2660000., 2940000.  \n",
    "\n",
    "# predicted\n",
    "lower_JuvenileSurvival, upper_JuvenileSurvival = 0.532, 0.588  # 0.56\n",
    "lower_AdultSurvival, upper_AdultSurvival = 0.641, 0.709  # 0.675\n",
    "lower_SYBreeding, upper_SYBreeding = 0.855, 0.945\n",
    "lower_ASYBreeding, upper_ASYBreeding = 0.9025, 0.9975"
   ]
  },
  {
   "cell_type": "code",
   "execution_count": 207,
   "metadata": {},
   "outputs": [],
   "source": [
    "raw_parameter_range = [[lower_ClutchSize, upper_ClutchSize], [lower_FledgeRate, upper_FledgeRate],\n",
    "                       [lower_FledglingSurvival, upper_FledglingSurvival], [lower_InitialAbundance, upper_InitialAbundance],\n",
    "                       [lower_JuvenileSurvival, upper_JuvenileSurvival], [lower_AdultSurvival, upper_AdultSurvival],\n",
    "                       [lower_SYBreeding, upper_SYBreeding], [lower_ASYBreeding, upper_ASYBreeding]]"
   ]
  },
  {
   "cell_type": "markdown",
   "metadata": {},
   "source": [
    "### 2.3. Environmental Stochasticity\n",
    "- Year to year variation that is unique to each simulation"
   ]
  },
  {
   "cell_type": "code",
   "execution_count": 208,
   "metadata": {},
   "outputs": [],
   "source": [
    "stochasticity_labels = ['ClutchSize', 'FledgeRate', 'FledglingSurvival', 'JuvenileSurvival', 'AdultSurvival',\n",
    "                        'SYBreeding', 'ASYBreeding']"
   ]
  },
  {
   "cell_type": "code",
   "execution_count": 209,
   "metadata": {},
   "outputs": [],
   "source": [
    "stoch_ClutchSize = 0.046\n",
    "stoch_FledgeRate = 0.011\n",
    "stoch_FledglingSurvival = 0.015\n",
    "stoch_JuvenileSurvival = 0.015\n",
    "stoch_AdultSurvival = 0.010\n",
    "stoch_SYBreeding = 0.010\n",
    "stoch_ASYBreeding = 0.015"
   ]
  },
  {
   "cell_type": "code",
   "execution_count": 210,
   "metadata": {},
   "outputs": [],
   "source": [
    "stochasticity_values = [stoch_ClutchSize, stoch_FledgeRate, stoch_FledglingSurvival, stoch_JuvenileSurvival, \n",
    "                        stoch_AdultSurvival, stoch_SYBreeding, stoch_ASYBreeding]"
   ]
  },
  {
   "cell_type": "code",
   "execution_count": 211,
   "metadata": {},
   "outputs": [],
   "source": [
    "stochasticity_dict = {a: b for (a, b) in zip(stochasticity_labels, stochasticity_values)}\n",
    "stochasticity = pd.DataFrame.from_dict([stochasticity_dict], orient='columns')"
   ]
  },
  {
   "cell_type": "markdown",
   "metadata": {},
   "source": [
    "# 3. Parameter Sets"
   ]
  },
  {
   "cell_type": "markdown",
   "metadata": {},
   "source": [
    "### 3.1. Import LHS\n",
    "- Optionally import LHS results and skip 3.2 - 3.3"
   ]
  },
  {
   "cell_type": "code",
   "execution_count": 212,
   "metadata": {},
   "outputs": [],
   "source": [
    "random_values_df = pd.read_csv(r'C:\\Users\\Work\\Desktop\\MS Pub\\GSA\\LHS_20k8p.csv')\n",
    "random_values_df = random_values_df.sample(sample_size).reset_index(drop=True)"
   ]
  },
  {
   "cell_type": "code",
   "execution_count": 213,
   "metadata": {},
   "outputs": [],
   "source": [
    "random_values_df.rename(columns={'0': 'ClutchSize', '1': 'FledgeRate', '2': 'FledglingSurvival', '3': 'InitialAbundance',\n",
    "                                 '4': 'JuvenileSurvival', '5': 'AdultSurvival', '6': 'SYBreeding', '7': 'ASYBreeding'},\n",
    "                        inplace=True)"
   ]
  },
  {
   "cell_type": "markdown",
   "metadata": {},
   "source": [
    "### 3.2. LHS Sampling\n",
    "- Random values to simulate parameter uncertainty"
   ]
  },
  {
   "cell_type": "code",
   "execution_count": 214,
   "metadata": {},
   "outputs": [],
   "source": [
    "# dimensions = [(0., 1.)] * parameter_count\n",
    "\n",
    "# lhs = Lhs(lhs_type='classic', criterion='maximin', iterations=1000)\n",
    "# random_values = lhs.generate(dimensions=dimensions, n_samples=sample_size)"
   ]
  },
  {
   "cell_type": "markdown",
   "metadata": {},
   "source": [
    "### 3.3. Export LHS\n",
    "- Optionally export LHS results"
   ]
  },
  {
   "cell_type": "code",
   "execution_count": 215,
   "metadata": {},
   "outputs": [],
   "source": [
    "# random_values_df = pd.DataFrame(random_values)\n",
    "# random_values_df.to_csv(r'C:\\Users\\Work\\Desktop\\MS Pub\\GSA\\LHS_20k8p.csv', index=False, header=True)"
   ]
  },
  {
   "cell_type": "markdown",
   "metadata": {},
   "source": [
    "### 3.4. Generate Sets"
   ]
  },
  {
   "cell_type": "code",
   "execution_count": 216,
   "metadata": {},
   "outputs": [],
   "source": [
    "def transformParameter(lower, upper, random):\n",
    "    new_parameter = ((upper - lower) * random) + lower\n",
    "    return new_parameter"
   ]
  },
  {
   "cell_type": "code",
   "execution_count": 217,
   "metadata": {},
   "outputs": [],
   "source": [
    "parameter_sets = [[]] * sample_size\n",
    "labeled_sets = [[]] * sample_size\n",
    "\n",
    "for s in range(sample_size):\n",
    "    parameter_sets[s] = [transformParameter(raw_parameter_range[p][0],\n",
    "                                            raw_parameter_range[p][1],\n",
    "                                            random_values_df.loc[s][p]) for p in range(parameter_count)]\n",
    "    labeled_sets[s] = {a: b for (a, b) in zip(parameter_labels, parameter_sets[s])}\n",
    "    \n",
    "inputs = pd.DataFrame.from_dict(data=labeled_sets, orient='columns')"
   ]
  },
  {
   "cell_type": "markdown",
   "metadata": {},
   "source": [
    "# 4. Simulation"
   ]
  },
  {
   "cell_type": "markdown",
   "metadata": {},
   "source": [
    "### 4.1. Stable Age Distribution"
   ]
  },
  {
   "cell_type": "code",
   "execution_count": 218,
   "metadata": {},
   "outputs": [],
   "source": [
    "sy_ratio = []\n",
    "asy_ratio = []"
   ]
  },
  {
   "cell_type": "code",
   "execution_count": 219,
   "metadata": {},
   "outputs": [],
   "source": [
    "def getStochasticity(params, stoch, labels):\n",
    "    stoch_params = stoch.copy()\n",
    "    for label in labels:\n",
    "        stoch_params[label] = np.random.normal(params[label], stoch[label], 1)\n",
    "    return stoch_params"
   ]
  },
  {
   "cell_type": "code",
   "execution_count": 220,
   "metadata": {},
   "outputs": [],
   "source": [
    "for s in range(sample_size):\n",
    "    \n",
    "    params = inputs.iloc[s] # retrieve unique parameter set\n",
    "    stoch = stochasticity.iloc[0] # retrieve stochasticity values\n",
    "    labels = stochasticity_labels\n",
    "    \n",
    "    juv_count = []\n",
    "    sy_count = []    \n",
    "    asy_count = []\n",
    "    population_size = []\n",
    "\n",
    "    juv_count.append(0)\n",
    "    sy_count.append(0)\n",
    "    asy_count.append(params['InitialAbundance'])\n",
    "    population_size.append(params['InitialAbundance'])\n",
    "    \n",
    "    delta = []\n",
    "    y = 0\n",
    "    \n",
    "    while True:\n",
    "        \n",
    "        stoch_params = getStochasticity(params, stoch, labels) # apply year to year variation\n",
    "           \n",
    "        # growth algorithm\n",
    "        breeding_pairs = ((stoch_params['SYBreeding'] * sy_count[y]) + (stoch_params['ASYBreeding'] * asy_count[y]))/2\n",
    "        new_juv = breeding_pairs * stoch_params['ClutchSize'] * stoch_params['FledgeRate'] * stoch_params['FledglingSurvival']\n",
    "        new_sy = new_juv * stoch_params['JuvenileSurvival']\n",
    "        new_asy = (sy_count[y] + asy_count[y]) * stoch_params['AdultSurvival']\n",
    "\n",
    "        juv_count.append(new_juv)\n",
    "        sy_count.append(new_sy)\n",
    "        asy_count.append(new_asy)\n",
    "        population_size.append(new_sy + new_asy)\n",
    "\n",
    "        if y > 0:\n",
    "            delta.append(((sy_count[y-1]/population_size[y-1]) - (sy_count[y]/population_size[y])) + \\\n",
    "                        ((asy_count[y-1]/population_size[y-1]) - (asy_count[y]/population_size[y])))\n",
    "\n",
    "        y += 1\n",
    "        if y > 5: # minimum of 5 iterations\n",
    "            if sum(delta[-3:]) < 0.01: # break when age distribution stabilizes\n",
    "                break\n",
    "        \n",
    "        if y > 20:\n",
    "            print(\"Warning: Age distribution stabilized slowly.\")\n",
    "    \n",
    "    sy_ratio.append(sy_count[-1]/population_size[-1])\n",
    "    asy_ratio.append(asy_count[-1]/population_size[-1])"
   ]
  },
  {
   "cell_type": "code",
   "execution_count": 221,
   "metadata": {},
   "outputs": [],
   "source": [
    "stable = pd.DataFrame(list(zip(sy_ratio, asy_ratio)), columns=['%SY', '%ASY'])\n",
    "trial = pd.DataFrame(list(zip(juv_count, sy_count, asy_count, population_size)), columns=['Juv', 'SY', 'ASY', 'Total'])"
   ]
  },
  {
   "cell_type": "code",
   "execution_count": 222,
   "metadata": {},
   "outputs": [
    {
     "data": {
      "text/html": [
       "<div>\n",
       "<style scoped>\n",
       "    .dataframe tbody tr th:only-of-type {\n",
       "        vertical-align: middle;\n",
       "    }\n",
       "\n",
       "    .dataframe tbody tr th {\n",
       "        vertical-align: top;\n",
       "    }\n",
       "\n",
       "    .dataframe thead th {\n",
       "        text-align: right;\n",
       "    }\n",
       "</style>\n",
       "<table border=\"1\" class=\"dataframe\">\n",
       "  <thead>\n",
       "    <tr style=\"text-align: right;\">\n",
       "      <th></th>\n",
       "      <th>%SY</th>\n",
       "      <th>%ASY</th>\n",
       "    </tr>\n",
       "  </thead>\n",
       "  <tbody>\n",
       "    <tr>\n",
       "      <th>12389</th>\n",
       "      <td>0.272289</td>\n",
       "      <td>0.727711</td>\n",
       "    </tr>\n",
       "    <tr>\n",
       "      <th>10566</th>\n",
       "      <td>0.277373</td>\n",
       "      <td>0.722627</td>\n",
       "    </tr>\n",
       "    <tr>\n",
       "      <th>4399</th>\n",
       "      <td>0.257924</td>\n",
       "      <td>0.742076</td>\n",
       "    </tr>\n",
       "    <tr>\n",
       "      <th>10836</th>\n",
       "      <td>0.261293</td>\n",
       "      <td>0.738707</td>\n",
       "    </tr>\n",
       "    <tr>\n",
       "      <th>8002</th>\n",
       "      <td>0.269065</td>\n",
       "      <td>0.730935</td>\n",
       "    </tr>\n",
       "  </tbody>\n",
       "</table>\n",
       "</div>"
      ],
      "text/plain": [
       "            %SY      %ASY\n",
       "12389  0.272289  0.727711\n",
       "10566  0.277373  0.722627\n",
       "4399   0.257924  0.742076\n",
       "10836  0.261293  0.738707\n",
       "8002   0.269065  0.730935"
      ]
     },
     "execution_count": 222,
     "metadata": {},
     "output_type": "execute_result"
    }
   ],
   "source": [
    "stable.sample(5)"
   ]
  },
  {
   "cell_type": "code",
   "execution_count": 223,
   "metadata": {},
   "outputs": [
    {
     "name": "stdout",
     "output_type": "stream",
     "text": [
      "Mean Stable Age Distribution: 27.3 % SY, 72.7 % ASY\n"
     ]
    }
   ],
   "source": [
    "print('Mean Stable Age Distribution: {} % SY, {} % ASY'.format(round(np.mean(sy_ratio), 3) * 100,\n",
    "                                                               round(np.mean(asy_ratio), 3) * 100))"
   ]
  },
  {
   "cell_type": "markdown",
   "metadata": {},
   "source": [
    "### 4.2. Simulate Growth\n",
    "- Initial abundance is distributed based on stable age distribution"
   ]
  },
  {
   "cell_type": "code",
   "execution_count": 224,
   "metadata": {},
   "outputs": [],
   "source": [
    "start_point = []\n",
    "end_point = []\n",
    "growth_rate = []"
   ]
  },
  {
   "cell_type": "code",
   "execution_count": 225,
   "metadata": {},
   "outputs": [],
   "source": [
    "for s in range(sample_size):\n",
    "\n",
    "    params = inputs.loc[s] # retrieve unique parameter set\n",
    "    stoch = stochasticity.iloc[0] # retrieve stochasticity values\n",
    "    labels = stochasticity_labels\n",
    "    \n",
    "    juv_count = []\n",
    "    sy_count = []    \n",
    "    asy_count = []\n",
    "    population_size = []\n",
    "    annual_growth = []\n",
    "\n",
    "    juv_count.append(0)\n",
    "    sy_count.append(params['InitialAbundance'] * sy_ratio[s])\n",
    "    asy_count.append(params['InitialAbundance'] * asy_ratio[s])\n",
    "    population_size.append(params['InitialAbundance'])\n",
    "    \n",
    "    for y in range(run_time):\n",
    "        \n",
    "        stoch_params = getStochasticity(params, stoch, labels) # apply year to year variation\n",
    "        \n",
    "        # growth algorithm\n",
    "        breeding_pairs = ((stoch_params['SYBreeding'] * sy_count[y]) + (stoch_params['ASYBreeding'] * asy_count[y]))/2\n",
    "        new_juv = breeding_pairs * stoch_params['ClutchSize'] * stoch_params['FledgeRate'] * stoch_params['FledglingSurvival']\n",
    "        new_sy = new_juv * stoch_params['JuvenileSurvival']\n",
    "        new_asy = (sy_count[y] + asy_count[y]) * stoch_params['AdultSurvival']\n",
    "\n",
    "        # store annual data\n",
    "        juv_count.append(new_juv)\n",
    "        sy_count.append(new_sy)\n",
    "        asy_count.append(new_asy)\n",
    "        population_size.append(new_sy + new_asy)\n",
    "        annual_growth.append((population_size[y+1] - population_size[y]) / population_size[y])\n",
    "    \n",
    "    # store simulation data\n",
    "    start_point.append(population_size[0])\n",
    "    end_point.append(population_size[-1])\n",
    "    growth_rate.append(np.mean(annual_growth) * 100)"
   ]
  },
  {
   "cell_type": "code",
   "execution_count": 226,
   "metadata": {},
   "outputs": [],
   "source": [
    "outputs = pd.DataFrame(list(zip(start_point, end_point)), columns=['Input', 'Output'])\n",
    "growth = pd.DataFrame(list(zip(juv_count, sy_count, asy_count, population_size)), columns=['Juv', 'SY', 'ASY', 'Total'])"
   ]
  },
  {
   "cell_type": "code",
   "execution_count": 227,
   "metadata": {},
   "outputs": [
    {
     "data": {
      "text/html": [
       "<div>\n",
       "<style scoped>\n",
       "    .dataframe tbody tr th:only-of-type {\n",
       "        vertical-align: middle;\n",
       "    }\n",
       "\n",
       "    .dataframe tbody tr th {\n",
       "        vertical-align: top;\n",
       "    }\n",
       "\n",
       "    .dataframe thead th {\n",
       "        text-align: right;\n",
       "    }\n",
       "</style>\n",
       "<table border=\"1\" class=\"dataframe\">\n",
       "  <thead>\n",
       "    <tr style=\"text-align: right;\">\n",
       "      <th></th>\n",
       "      <th>Input</th>\n",
       "      <th>Output</th>\n",
       "    </tr>\n",
       "  </thead>\n",
       "  <tbody>\n",
       "    <tr>\n",
       "      <th>0</th>\n",
       "      <td>2.935815e+06</td>\n",
       "      <td>404874.500079</td>\n",
       "    </tr>\n",
       "    <tr>\n",
       "      <th>1</th>\n",
       "      <td>2.755107e+06</td>\n",
       "      <td>98354.763097</td>\n",
       "    </tr>\n",
       "    <tr>\n",
       "      <th>2</th>\n",
       "      <td>2.909077e+06</td>\n",
       "      <td>9699.965204</td>\n",
       "    </tr>\n",
       "    <tr>\n",
       "      <th>3</th>\n",
       "      <td>2.840050e+06</td>\n",
       "      <td>11265.240275</td>\n",
       "    </tr>\n",
       "    <tr>\n",
       "      <th>4</th>\n",
       "      <td>2.801774e+06</td>\n",
       "      <td>22156.306290</td>\n",
       "    </tr>\n",
       "  </tbody>\n",
       "</table>\n",
       "</div>"
      ],
      "text/plain": [
       "          Input         Output\n",
       "0  2.935815e+06  404874.500079\n",
       "1  2.755107e+06   98354.763097\n",
       "2  2.909077e+06    9699.965204\n",
       "3  2.840050e+06   11265.240275\n",
       "4  2.801774e+06   22156.306290"
      ]
     },
     "execution_count": 227,
     "metadata": {},
     "output_type": "execute_result"
    },
    {
     "data": {
      "text/html": [
       "<div>\n",
       "<style scoped>\n",
       "    .dataframe tbody tr th:only-of-type {\n",
       "        vertical-align: middle;\n",
       "    }\n",
       "\n",
       "    .dataframe tbody tr th {\n",
       "        vertical-align: top;\n",
       "    }\n",
       "\n",
       "    .dataframe thead th {\n",
       "        text-align: right;\n",
       "    }\n",
       "</style>\n",
       "<table border=\"1\" class=\"dataframe\">\n",
       "  <thead>\n",
       "    <tr style=\"text-align: right;\">\n",
       "      <th></th>\n",
       "      <th>Juv</th>\n",
       "      <th>SY</th>\n",
       "      <th>ASY</th>\n",
       "      <th>Total</th>\n",
       "    </tr>\n",
       "  </thead>\n",
       "  <tbody>\n",
       "    <tr>\n",
       "      <th>46</th>\n",
       "      <td>20917.174531</td>\n",
       "      <td>11801.416832</td>\n",
       "      <td>30358.892395</td>\n",
       "      <td>42160.309227</td>\n",
       "    </tr>\n",
       "    <tr>\n",
       "      <th>47</th>\n",
       "      <td>20733.257798</td>\n",
       "      <td>12423.674600</td>\n",
       "      <td>27052.906865</td>\n",
       "      <td>39476.581465</td>\n",
       "    </tr>\n",
       "    <tr>\n",
       "      <th>48</th>\n",
       "      <td>19933.660012</td>\n",
       "      <td>11480.654868</td>\n",
       "      <td>26162.515576</td>\n",
       "      <td>37643.170444</td>\n",
       "    </tr>\n",
       "    <tr>\n",
       "      <th>49</th>\n",
       "      <td>16779.515901</td>\n",
       "      <td>9670.330426</td>\n",
       "      <td>24366.743047</td>\n",
       "      <td>34037.073473</td>\n",
       "    </tr>\n",
       "    <tr>\n",
       "      <th>50</th>\n",
       "      <td>17286.665804</td>\n",
       "      <td>9872.916210</td>\n",
       "      <td>21831.886493</td>\n",
       "      <td>31704.802703</td>\n",
       "    </tr>\n",
       "  </tbody>\n",
       "</table>\n",
       "</div>"
      ],
      "text/plain": [
       "             Juv            SY           ASY         Total\n",
       "46  20917.174531  11801.416832  30358.892395  42160.309227\n",
       "47  20733.257798  12423.674600  27052.906865  39476.581465\n",
       "48  19933.660012  11480.654868  26162.515576  37643.170444\n",
       "49  16779.515901   9670.330426  24366.743047  34037.073473\n",
       "50  17286.665804   9872.916210  21831.886493  31704.802703"
      ]
     },
     "execution_count": 227,
     "metadata": {},
     "output_type": "execute_result"
    }
   ],
   "source": [
    "outputs.head(5)\n",
    "growth.tail(5)"
   ]
  },
  {
   "cell_type": "code",
   "execution_count": 228,
   "metadata": {},
   "outputs": [
    {
     "name": "stdout",
     "output_type": "stream",
     "text": [
      "Annual Mean Growth: -7.08 %\n"
     ]
    }
   ],
   "source": [
    "print('Annual Mean Growth: {} %'.format(round(np.mean(growth_rate), 2)))"
   ]
  },
  {
   "cell_type": "markdown",
   "metadata": {},
   "source": [
    "### 4.3. Compile Results\n",
    "- Optionally export the dataset"
   ]
  },
  {
   "cell_type": "code",
   "execution_count": 229,
   "metadata": {},
   "outputs": [],
   "source": [
    "data = pd.concat([inputs, outputs['Output']], axis=1).reset_index()\n",
    "data.rename(columns={'index': 'ID'}, inplace=True)"
   ]
  },
  {
   "cell_type": "code",
   "execution_count": 230,
   "metadata": {},
   "outputs": [
    {
     "data": {
      "text/html": [
       "<div>\n",
       "<style scoped>\n",
       "    .dataframe tbody tr th:only-of-type {\n",
       "        vertical-align: middle;\n",
       "    }\n",
       "\n",
       "    .dataframe tbody tr th {\n",
       "        vertical-align: top;\n",
       "    }\n",
       "\n",
       "    .dataframe thead th {\n",
       "        text-align: right;\n",
       "    }\n",
       "</style>\n",
       "<table border=\"1\" class=\"dataframe\">\n",
       "  <thead>\n",
       "    <tr style=\"text-align: right;\">\n",
       "      <th></th>\n",
       "      <th>ID</th>\n",
       "      <th>ClutchSize</th>\n",
       "      <th>FledgeRate</th>\n",
       "      <th>FledglingSurvival</th>\n",
       "      <th>InitialAbundance</th>\n",
       "      <th>JuvenileSurvival</th>\n",
       "      <th>AdultSurvival</th>\n",
       "      <th>SYBreeding</th>\n",
       "      <th>ASYBreeding</th>\n",
       "      <th>Output</th>\n",
       "    </tr>\n",
       "  </thead>\n",
       "  <tbody>\n",
       "    <tr>\n",
       "      <th>13859</th>\n",
       "      <td>13859</td>\n",
       "      <td>4.352115</td>\n",
       "      <td>0.365299</td>\n",
       "      <td>0.602740</td>\n",
       "      <td>2.785221e+06</td>\n",
       "      <td>0.553559</td>\n",
       "      <td>0.659804</td>\n",
       "      <td>0.923872</td>\n",
       "      <td>0.917454</td>\n",
       "      <td>18142.024618</td>\n",
       "    </tr>\n",
       "    <tr>\n",
       "      <th>18488</th>\n",
       "      <td>18488</td>\n",
       "      <td>4.462546</td>\n",
       "      <td>0.356454</td>\n",
       "      <td>0.639301</td>\n",
       "      <td>2.868939e+06</td>\n",
       "      <td>0.576194</td>\n",
       "      <td>0.646692</td>\n",
       "      <td>0.856667</td>\n",
       "      <td>0.952474</td>\n",
       "      <td>40315.904735</td>\n",
       "    </tr>\n",
       "    <tr>\n",
       "      <th>6451</th>\n",
       "      <td>6451</td>\n",
       "      <td>4.545222</td>\n",
       "      <td>0.356290</td>\n",
       "      <td>0.616479</td>\n",
       "      <td>2.696451e+06</td>\n",
       "      <td>0.533400</td>\n",
       "      <td>0.707816</td>\n",
       "      <td>0.944071</td>\n",
       "      <td>0.992267</td>\n",
       "      <td>475292.265768</td>\n",
       "    </tr>\n",
       "    <tr>\n",
       "      <th>17951</th>\n",
       "      <td>17951</td>\n",
       "      <td>4.544594</td>\n",
       "      <td>0.367867</td>\n",
       "      <td>0.639327</td>\n",
       "      <td>2.842665e+06</td>\n",
       "      <td>0.546951</td>\n",
       "      <td>0.667902</td>\n",
       "      <td>0.869880</td>\n",
       "      <td>0.909078</td>\n",
       "      <td>98856.561464</td>\n",
       "    </tr>\n",
       "    <tr>\n",
       "      <th>7568</th>\n",
       "      <td>7568</td>\n",
       "      <td>4.551079</td>\n",
       "      <td>0.354403</td>\n",
       "      <td>0.635438</td>\n",
       "      <td>2.746052e+06</td>\n",
       "      <td>0.574290</td>\n",
       "      <td>0.690330</td>\n",
       "      <td>0.933440</td>\n",
       "      <td>0.949035</td>\n",
       "      <td>491022.117790</td>\n",
       "    </tr>\n",
       "  </tbody>\n",
       "</table>\n",
       "</div>"
      ],
      "text/plain": [
       "          ID  ClutchSize  FledgeRate  FledglingSurvival  InitialAbundance  \\\n",
       "13859  13859    4.352115    0.365299           0.602740      2.785221e+06   \n",
       "18488  18488    4.462546    0.356454           0.639301      2.868939e+06   \n",
       "6451    6451    4.545222    0.356290           0.616479      2.696451e+06   \n",
       "17951  17951    4.544594    0.367867           0.639327      2.842665e+06   \n",
       "7568    7568    4.551079    0.354403           0.635438      2.746052e+06   \n",
       "\n",
       "       JuvenileSurvival  AdultSurvival  SYBreeding  ASYBreeding         Output  \n",
       "13859          0.553559       0.659804    0.923872     0.917454   18142.024618  \n",
       "18488          0.576194       0.646692    0.856667     0.952474   40315.904735  \n",
       "6451           0.533400       0.707816    0.944071     0.992267  475292.265768  \n",
       "17951          0.546951       0.667902    0.869880     0.909078   98856.561464  \n",
       "7568           0.574290       0.690330    0.933440     0.949035  491022.117790  "
      ]
     },
     "execution_count": 230,
     "metadata": {},
     "output_type": "execute_result"
    }
   ],
   "source": [
    "data.sample(5)"
   ]
  },
  {
   "cell_type": "code",
   "execution_count": 231,
   "metadata": {},
   "outputs": [],
   "source": [
    "data.to_csv(r'C:\\Users\\Work\\Desktop\\MS Pub\\GSA\\grackle_20k8p_illinois.csv', header=True, index=False)"
   ]
  },
  {
   "cell_type": "code",
   "execution_count": null,
   "metadata": {},
   "outputs": [],
   "source": []
  }
 ],
 "metadata": {
  "kernelspec": {
   "display_name": "Python 3",
   "language": "python",
   "name": "python3"
  },
  "language_info": {
   "codemirror_mode": {
    "name": "ipython",
    "version": 3
   },
   "file_extension": ".py",
   "mimetype": "text/x-python",
   "name": "python",
   "nbconvert_exporter": "python",
   "pygments_lexer": "ipython3",
   "version": "3.7.9"
  }
 },
 "nbformat": 4,
 "nbformat_minor": 4
}
