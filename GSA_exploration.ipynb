{
 "cells": [
  {
   "cell_type": "markdown",
   "metadata": {},
   "source": [
    "# 1. Setup Environment"
   ]
  },
  {
   "cell_type": "markdown",
   "metadata": {},
   "source": [
    "### 1.1. Libraries"
   ]
  },
  {
   "cell_type": "code",
   "execution_count": 1,
   "metadata": {},
   "outputs": [],
   "source": [
    "import matplotlib.pyplot as plt\n",
    "import numpy as np\n",
    "import pandas as pd\n",
    "import seaborn as sns\n",
    "\n",
    "from scipy.stats import kurtosis, norm, skew, median_abs_deviation\n",
    "\n",
    "%matplotlib inline\n",
    "\n",
    "pd.options.display.max_rows = None\n",
    "pd.options.display.max_columns = None\n",
    "\n",
    "from IPython.core.interactiveshell import InteractiveShell\n",
    "InteractiveShell.ast_node_interactivity = \"all\""
   ]
  },
  {
   "cell_type": "markdown",
   "metadata": {},
   "source": [
    "### 1.2. Import Dataset"
   ]
  },
  {
   "cell_type": "code",
   "execution_count": 2,
   "metadata": {},
   "outputs": [],
   "source": [
    "data = pd.read_csv(r'C:\\Users\\Work\\Desktop\\MS Pub\\GSA\\grackle_20k8p_illinois.csv')"
   ]
  },
  {
   "cell_type": "markdown",
   "metadata": {},
   "source": [
    "# 2. Data Exploration"
   ]
  },
  {
   "cell_type": "markdown",
   "metadata": {},
   "source": [
    "### 2.1. Features"
   ]
  },
  {
   "cell_type": "code",
   "execution_count": 3,
   "metadata": {},
   "outputs": [
    {
     "data": {
      "text/html": [
       "<div>\n",
       "<style scoped>\n",
       "    .dataframe tbody tr th:only-of-type {\n",
       "        vertical-align: middle;\n",
       "    }\n",
       "\n",
       "    .dataframe tbody tr th {\n",
       "        vertical-align: top;\n",
       "    }\n",
       "\n",
       "    .dataframe thead th {\n",
       "        text-align: right;\n",
       "    }\n",
       "</style>\n",
       "<table border=\"1\" class=\"dataframe\">\n",
       "  <thead>\n",
       "    <tr style=\"text-align: right;\">\n",
       "      <th></th>\n",
       "      <th>ID</th>\n",
       "      <th>ClutchSize</th>\n",
       "      <th>FledgeRate</th>\n",
       "      <th>FledglingSurvival</th>\n",
       "      <th>InitialAbundance</th>\n",
       "      <th>JuvenileSurvival</th>\n",
       "      <th>AdultSurvival</th>\n",
       "      <th>SYBreeding</th>\n",
       "      <th>ASYBreeding</th>\n",
       "      <th>Output</th>\n",
       "    </tr>\n",
       "  </thead>\n",
       "  <tbody>\n",
       "    <tr>\n",
       "      <th>15378</th>\n",
       "      <td>15378</td>\n",
       "      <td>4.381691</td>\n",
       "      <td>0.376948</td>\n",
       "      <td>0.586867</td>\n",
       "      <td>2.737579e+06</td>\n",
       "      <td>0.554299</td>\n",
       "      <td>0.700840</td>\n",
       "      <td>0.878032</td>\n",
       "      <td>0.987021</td>\n",
       "      <td>316010.913666</td>\n",
       "    </tr>\n",
       "    <tr>\n",
       "      <th>8115</th>\n",
       "      <td>8115</td>\n",
       "      <td>4.243075</td>\n",
       "      <td>0.365436</td>\n",
       "      <td>0.594701</td>\n",
       "      <td>2.738938e+06</td>\n",
       "      <td>0.548819</td>\n",
       "      <td>0.668031</td>\n",
       "      <td>0.908998</td>\n",
       "      <td>0.968208</td>\n",
       "      <td>20520.393605</td>\n",
       "    </tr>\n",
       "    <tr>\n",
       "      <th>10580</th>\n",
       "      <td>10580</td>\n",
       "      <td>4.558070</td>\n",
       "      <td>0.358108</td>\n",
       "      <td>0.586205</td>\n",
       "      <td>2.883546e+06</td>\n",
       "      <td>0.577932</td>\n",
       "      <td>0.675139</td>\n",
       "      <td>0.864739</td>\n",
       "      <td>0.953242</td>\n",
       "      <td>82105.379718</td>\n",
       "    </tr>\n",
       "    <tr>\n",
       "      <th>8947</th>\n",
       "      <td>8947</td>\n",
       "      <td>4.525864</td>\n",
       "      <td>0.349406</td>\n",
       "      <td>0.594532</td>\n",
       "      <td>2.880514e+06</td>\n",
       "      <td>0.562257</td>\n",
       "      <td>0.654644</td>\n",
       "      <td>0.904996</td>\n",
       "      <td>0.917780</td>\n",
       "      <td>13738.959031</td>\n",
       "    </tr>\n",
       "    <tr>\n",
       "      <th>11798</th>\n",
       "      <td>11798</td>\n",
       "      <td>4.329801</td>\n",
       "      <td>0.376031</td>\n",
       "      <td>0.598917</td>\n",
       "      <td>2.840484e+06</td>\n",
       "      <td>0.586315</td>\n",
       "      <td>0.687359</td>\n",
       "      <td>0.866055</td>\n",
       "      <td>0.995953</td>\n",
       "      <td>358239.148178</td>\n",
       "    </tr>\n",
       "  </tbody>\n",
       "</table>\n",
       "</div>"
      ],
      "text/plain": [
       "          ID  ClutchSize  FledgeRate  FledglingSurvival  InitialAbundance  \\\n",
       "15378  15378    4.381691    0.376948           0.586867      2.737579e+06   \n",
       "8115    8115    4.243075    0.365436           0.594701      2.738938e+06   \n",
       "10580  10580    4.558070    0.358108           0.586205      2.883546e+06   \n",
       "8947    8947    4.525864    0.349406           0.594532      2.880514e+06   \n",
       "11798  11798    4.329801    0.376031           0.598917      2.840484e+06   \n",
       "\n",
       "       JuvenileSurvival  AdultSurvival  SYBreeding  ASYBreeding         Output  \n",
       "15378          0.554299       0.700840    0.878032     0.987021  316010.913666  \n",
       "8115           0.548819       0.668031    0.908998     0.968208   20520.393605  \n",
       "10580          0.577932       0.675139    0.864739     0.953242   82105.379718  \n",
       "8947           0.562257       0.654644    0.904996     0.917780   13738.959031  \n",
       "11798          0.586315       0.687359    0.866055     0.995953  358239.148178  "
      ]
     },
     "execution_count": 3,
     "metadata": {},
     "output_type": "execute_result"
    },
    {
     "data": {
      "text/plain": [
       "(20000, 10)"
      ]
     },
     "execution_count": 3,
     "metadata": {},
     "output_type": "execute_result"
    }
   ],
   "source": [
    "data.sample(5)\n",
    "data.shape"
   ]
  },
  {
   "cell_type": "code",
   "execution_count": 4,
   "metadata": {},
   "outputs": [],
   "source": [
    "params = data.iloc[:, 1:-1].select_dtypes(include=[np.number]).columns.tolist()\n",
    "target = 'Output'"
   ]
  },
  {
   "cell_type": "markdown",
   "metadata": {},
   "source": [
    "### 2.2. Feature Locations"
   ]
  },
  {
   "cell_type": "code",
   "execution_count": 5,
   "metadata": {},
   "outputs": [
    {
     "data": {
      "text/html": [
       "<div>\n",
       "<style scoped>\n",
       "    .dataframe tbody tr th:only-of-type {\n",
       "        vertical-align: middle;\n",
       "    }\n",
       "\n",
       "    .dataframe tbody tr th {\n",
       "        vertical-align: top;\n",
       "    }\n",
       "\n",
       "    .dataframe thead th {\n",
       "        text-align: right;\n",
       "    }\n",
       "</style>\n",
       "<table border=\"1\" class=\"dataframe\">\n",
       "  <thead>\n",
       "    <tr style=\"text-align: right;\">\n",
       "      <th></th>\n",
       "      <th>ClutchSize</th>\n",
       "      <th>FledgeRate</th>\n",
       "      <th>FledglingSurvival</th>\n",
       "      <th>InitialAbundance</th>\n",
       "      <th>JuvenileSurvival</th>\n",
       "      <th>AdultSurvival</th>\n",
       "      <th>SYBreeding</th>\n",
       "      <th>ASYBreeding</th>\n",
       "    </tr>\n",
       "  </thead>\n",
       "  <tbody>\n",
       "    <tr>\n",
       "      <th>count</th>\n",
       "      <td>20000.000000</td>\n",
       "      <td>20000.000000</td>\n",
       "      <td>20000.000000</td>\n",
       "      <td>2.000000e+04</td>\n",
       "      <td>20000.000000</td>\n",
       "      <td>20000.000000</td>\n",
       "      <td>20000.000000</td>\n",
       "      <td>20000.000000</td>\n",
       "    </tr>\n",
       "    <tr>\n",
       "      <th>mean</th>\n",
       "      <td>4.354500</td>\n",
       "      <td>0.361000</td>\n",
       "      <td>0.617000</td>\n",
       "      <td>2.800000e+06</td>\n",
       "      <td>0.560000</td>\n",
       "      <td>0.675000</td>\n",
       "      <td>0.900000</td>\n",
       "      <td>0.950000</td>\n",
       "    </tr>\n",
       "    <tr>\n",
       "      <th>std</th>\n",
       "      <td>0.125577</td>\n",
       "      <td>0.010393</td>\n",
       "      <td>0.017898</td>\n",
       "      <td>8.083102e+04</td>\n",
       "      <td>0.016166</td>\n",
       "      <td>0.019630</td>\n",
       "      <td>0.025981</td>\n",
       "      <td>0.027425</td>\n",
       "    </tr>\n",
       "    <tr>\n",
       "      <th>min</th>\n",
       "      <td>4.137005</td>\n",
       "      <td>0.343000</td>\n",
       "      <td>0.586002</td>\n",
       "      <td>2.660013e+06</td>\n",
       "      <td>0.532003</td>\n",
       "      <td>0.641001</td>\n",
       "      <td>0.855003</td>\n",
       "      <td>0.902503</td>\n",
       "    </tr>\n",
       "    <tr>\n",
       "      <th>25%</th>\n",
       "      <td>4.245747</td>\n",
       "      <td>0.352001</td>\n",
       "      <td>0.601502</td>\n",
       "      <td>2.730006e+06</td>\n",
       "      <td>0.546001</td>\n",
       "      <td>0.658001</td>\n",
       "      <td>0.877500</td>\n",
       "      <td>0.926251</td>\n",
       "    </tr>\n",
       "    <tr>\n",
       "      <th>50%</th>\n",
       "      <td>4.354508</td>\n",
       "      <td>0.361000</td>\n",
       "      <td>0.617000</td>\n",
       "      <td>2.800002e+06</td>\n",
       "      <td>0.560001</td>\n",
       "      <td>0.675000</td>\n",
       "      <td>0.900001</td>\n",
       "      <td>0.949999</td>\n",
       "    </tr>\n",
       "    <tr>\n",
       "      <th>75%</th>\n",
       "      <td>4.463248</td>\n",
       "      <td>0.369999</td>\n",
       "      <td>0.632499</td>\n",
       "      <td>2.869999e+06</td>\n",
       "      <td>0.573999</td>\n",
       "      <td>0.691999</td>\n",
       "      <td>0.922500</td>\n",
       "      <td>0.973747</td>\n",
       "    </tr>\n",
       "    <tr>\n",
       "      <th>max</th>\n",
       "      <td>4.571981</td>\n",
       "      <td>0.378998</td>\n",
       "      <td>0.647998</td>\n",
       "      <td>2.939999e+06</td>\n",
       "      <td>0.587998</td>\n",
       "      <td>0.709000</td>\n",
       "      <td>0.944999</td>\n",
       "      <td>0.997498</td>\n",
       "    </tr>\n",
       "  </tbody>\n",
       "</table>\n",
       "</div>"
      ],
      "text/plain": [
       "         ClutchSize    FledgeRate  FledglingSurvival  InitialAbundance  \\\n",
       "count  20000.000000  20000.000000       20000.000000      2.000000e+04   \n",
       "mean       4.354500      0.361000           0.617000      2.800000e+06   \n",
       "std        0.125577      0.010393           0.017898      8.083102e+04   \n",
       "min        4.137005      0.343000           0.586002      2.660013e+06   \n",
       "25%        4.245747      0.352001           0.601502      2.730006e+06   \n",
       "50%        4.354508      0.361000           0.617000      2.800002e+06   \n",
       "75%        4.463248      0.369999           0.632499      2.869999e+06   \n",
       "max        4.571981      0.378998           0.647998      2.939999e+06   \n",
       "\n",
       "       JuvenileSurvival  AdultSurvival    SYBreeding   ASYBreeding  \n",
       "count      20000.000000   20000.000000  20000.000000  20000.000000  \n",
       "mean           0.560000       0.675000      0.900000      0.950000  \n",
       "std            0.016166       0.019630      0.025981      0.027425  \n",
       "min            0.532003       0.641001      0.855003      0.902503  \n",
       "25%            0.546001       0.658001      0.877500      0.926251  \n",
       "50%            0.560001       0.675000      0.900001      0.949999  \n",
       "75%            0.573999       0.691999      0.922500      0.973747  \n",
       "max            0.587998       0.709000      0.944999      0.997498  "
      ]
     },
     "execution_count": 5,
     "metadata": {},
     "output_type": "execute_result"
    }
   ],
   "source": [
    "data[params].describe()"
   ]
  },
  {
   "cell_type": "code",
   "execution_count": 6,
   "metadata": {},
   "outputs": [
    {
     "data": {
      "text/html": [
       "<div>\n",
       "<style scoped>\n",
       "    .dataframe tbody tr th:only-of-type {\n",
       "        vertical-align: middle;\n",
       "    }\n",
       "\n",
       "    .dataframe tbody tr th {\n",
       "        vertical-align: top;\n",
       "    }\n",
       "\n",
       "    .dataframe thead th {\n",
       "        text-align: right;\n",
       "    }\n",
       "</style>\n",
       "<table border=\"1\" class=\"dataframe\">\n",
       "  <thead>\n",
       "    <tr style=\"text-align: right;\">\n",
       "      <th></th>\n",
       "      <th>Output</th>\n",
       "    </tr>\n",
       "  </thead>\n",
       "  <tbody>\n",
       "    <tr>\n",
       "      <th>count</th>\n",
       "      <td>2.000000e+04</td>\n",
       "    </tr>\n",
       "    <tr>\n",
       "      <th>mean</th>\n",
       "      <td>1.628003e+05</td>\n",
       "    </tr>\n",
       "    <tr>\n",
       "      <th>std</th>\n",
       "      <td>2.687501e+05</td>\n",
       "    </tr>\n",
       "    <tr>\n",
       "      <th>min</th>\n",
       "      <td>1.266148e+03</td>\n",
       "    </tr>\n",
       "    <tr>\n",
       "      <th>25%</th>\n",
       "      <td>2.623292e+04</td>\n",
       "    </tr>\n",
       "    <tr>\n",
       "      <th>50%</th>\n",
       "      <td>7.128828e+04</td>\n",
       "    </tr>\n",
       "    <tr>\n",
       "      <th>75%</th>\n",
       "      <td>1.873596e+05</td>\n",
       "    </tr>\n",
       "    <tr>\n",
       "      <th>max</th>\n",
       "      <td>7.536484e+06</td>\n",
       "    </tr>\n",
       "  </tbody>\n",
       "</table>\n",
       "</div>"
      ],
      "text/plain": [
       "             Output\n",
       "count  2.000000e+04\n",
       "mean   1.628003e+05\n",
       "std    2.687501e+05\n",
       "min    1.266148e+03\n",
       "25%    2.623292e+04\n",
       "50%    7.128828e+04\n",
       "75%    1.873596e+05\n",
       "max    7.536484e+06"
      ]
     },
     "execution_count": 6,
     "metadata": {},
     "output_type": "execute_result"
    }
   ],
   "source": [
    "data[['Output']].describe()"
   ]
  },
  {
   "cell_type": "markdown",
   "metadata": {},
   "source": [
    "### 2.3. Feature Distributions"
   ]
  },
  {
   "cell_type": "code",
   "execution_count": 7,
   "metadata": {},
   "outputs": [],
   "source": [
    "def distReport(data, feature, s=True, k=True):\n",
    "    s = abs(skew(data[feature], nan_policy='omit'))\n",
    "    k = abs(kurtosis(data[feature], nan_policy='omit'))\n",
    "    return [s, k]"
   ]
  },
  {
   "cell_type": "code",
   "execution_count": 8,
   "metadata": {},
   "outputs": [
    {
     "data": {
      "text/plain": [
       "[array([3.68963427e-07]), array([1.20000257])]"
      ]
     },
     "execution_count": 8,
     "metadata": {},
     "output_type": "execute_result"
    }
   ],
   "source": [
    "distReport(data, ['ClutchSize'], s=True, k=True)"
   ]
  },
  {
   "cell_type": "code",
   "execution_count": 9,
   "metadata": {
    "scrolled": true
   },
   "outputs": [
    {
     "data": {
      "text/plain": [
       "<AxesSubplot:xlabel='ClutchSize', ylabel='Density'>"
      ]
     },
     "execution_count": 9,
     "metadata": {},
     "output_type": "execute_result"
    },
    {
     "data": {
      "text/plain": [
       "[<matplotlib.lines.Line2D at 0x194d7e7ad88>]"
      ]
     },
     "execution_count": 9,
     "metadata": {},
     "output_type": "execute_result"
    },
    {
     "data": {
      "image/png": "[encoded data removed]",
      "text/plain": [
       "<Figure size 432x288 with 1 Axes>"
      ]
     },
     "metadata": {
      "needs_background": "light"
     },
     "output_type": "display_data"
    }
   ],
   "source": [
    "sns.histplot(x='ClutchSize', stat='density', bins=20, color='steelblue', edgecolor='black', data=data)\n",
    "\n",
    "mu, sigma = norm.fit(np.array(data['ClutchSize'].dropna()))\n",
    "xmin, xmax = plt.xlim()\n",
    "domain = np.linspace(xmin, xmax, 1000)\n",
    "plt.plot(domain, norm.pdf(domain, mu, sigma), color='black', linewidth=2)"
   ]
  },
  {
   "cell_type": "code",
   "execution_count": 10,
   "metadata": {},
   "outputs": [
    {
     "data": {
      "text/plain": [
       "[array([5.67628948]), array([66.58710634])]"
      ]
     },
     "execution_count": 10,
     "metadata": {},
     "output_type": "execute_result"
    }
   ],
   "source": [
    "distReport(data, ['Output'], s=True, k=True)"
   ]
  },
  {
   "cell_type": "code",
   "execution_count": 11,
   "metadata": {},
   "outputs": [
    {
     "data": {
      "text/plain": [
       "<AxesSubplot:xlabel='Output', ylabel='Density'>"
      ]
     },
     "execution_count": 11,
     "metadata": {},
     "output_type": "execute_result"
    },
    {
     "data": {
      "text/plain": [
       "[<matplotlib.lines.Line2D at 0x194d7fb69c8>]"
      ]
     },
     "execution_count": 11,
     "metadata": {},
     "output_type": "execute_result"
    },
    {
     "data": {
      "image/png": "[encoded data removed]",
      "text/plain": [
       "<Figure size 432x288 with 1 Axes>"
      ]
     },
     "metadata": {
      "needs_background": "light"
     },
     "output_type": "display_data"
    }
   ],
   "source": [
    "sns.histplot(x='Output', stat='density', bins=20, color='steelblue', edgecolor='black', data=data)\n",
    "\n",
    "mu, sigma = norm.fit(np.array(data['Output'].dropna()))\n",
    "xmin, xmax = plt.xlim()\n",
    "domain = np.linspace(xmin, xmax, 1000)\n",
    "plt.plot(domain, norm.pdf(domain, mu, sigma), color='black', linewidth=2)"
   ]
  },
  {
   "cell_type": "markdown",
   "metadata": {},
   "source": [
    "# 3. Outlier Treatment"
   ]
  },
  {
   "cell_type": "markdown",
   "metadata": {},
   "source": [
    "### 3.1. Option 1: Remove Outliers Using MAD"
   ]
  },
  {
   "cell_type": "code",
   "execution_count": 12,
   "metadata": {},
   "outputs": [],
   "source": [
    "def outliersMAD(data):\n",
    "    m = np.median(data)\n",
    "    mad = median_abs_deviation(x=data, axis=0, scale=1)\n",
    "    lower = m - (3 * mad)\n",
    "    upper = m + (3 * mad)\n",
    "    return lower, upper"
   ]
  },
  {
   "cell_type": "code",
   "execution_count": 13,
   "metadata": {},
   "outputs": [],
   "source": [
    "mad = outliersMAD(data['Output'])"
   ]
  },
  {
   "cell_type": "code",
   "execution_count": 14,
   "metadata": {},
   "outputs": [],
   "source": [
    "data_rob = data.loc[(data['Output'] >= mad[0]) & (data['Output'] <= mad[1])]"
   ]
  },
  {
   "cell_type": "code",
   "execution_count": 15,
   "metadata": {},
   "outputs": [
    {
     "data": {
      "text/plain": [
       "<AxesSubplot:xlabel='Output', ylabel='Density'>"
      ]
     },
     "execution_count": 15,
     "metadata": {},
     "output_type": "execute_result"
    },
    {
     "data": {
      "text/plain": [
       "[<matplotlib.lines.Line2D at 0x194d7fd7808>]"
      ]
     },
     "execution_count": 15,
     "metadata": {},
     "output_type": "execute_result"
    },
    {
     "data": {
      "image/png": "[encoded data removed]",
      "text/plain": [
       "<Figure size 432x288 with 1 Axes>"
      ]
     },
     "metadata": {
      "needs_background": "light"
     },
     "output_type": "display_data"
    }
   ],
   "source": [
    "sns.histplot(x='Output', stat='density', bins=20, color='steelblue', edgecolor='black', data=data_rob)\n",
    "\n",
    "mu, sigma = norm.fit(np.array(data_rob['Output'].dropna()))\n",
    "xmin, xmax = plt.xlim()\n",
    "domain = np.linspace(xmin, xmax, 1000)\n",
    "plt.plot(domain, norm.pdf(domain, mu, sigma), color='black', linewidth=2)"
   ]
  },
  {
   "cell_type": "code",
   "execution_count": 16,
   "metadata": {},
   "outputs": [
    {
     "data": {
      "text/plain": [
       "(20000, 10)"
      ]
     },
     "execution_count": 16,
     "metadata": {},
     "output_type": "execute_result"
    },
    {
     "data": {
      "text/plain": [
       "(16028, 10)"
      ]
     },
     "execution_count": 16,
     "metadata": {},
     "output_type": "execute_result"
    }
   ],
   "source": [
    "data.shape\n",
    "data_rob.shape"
   ]
  },
  {
   "cell_type": "markdown",
   "metadata": {},
   "source": [
    "### 3.2. Option 2: Log Transform"
   ]
  },
  {
   "cell_type": "code",
   "execution_count": 17,
   "metadata": {},
   "outputs": [],
   "source": [
    "data_log = data.copy()\n",
    "data_log['Output'] = np.log(data_log['Output'])"
   ]
  },
  {
   "cell_type": "code",
   "execution_count": 18,
   "metadata": {},
   "outputs": [
    {
     "data": {
      "text/plain": [
       "<AxesSubplot:xlabel='Output', ylabel='Density'>"
      ]
     },
     "execution_count": 18,
     "metadata": {},
     "output_type": "execute_result"
    },
    {
     "data": {
      "text/plain": [
       "[<matplotlib.lines.Line2D at 0x194d81b6848>]"
      ]
     },
     "execution_count": 18,
     "metadata": {},
     "output_type": "execute_result"
    },
    {
     "data": {
      "image/png": "[encoded data removed]",
      "text/plain": [
       "<Figure size 432x288 with 1 Axes>"
      ]
     },
     "metadata": {
      "needs_background": "light"
     },
     "output_type": "display_data"
    }
   ],
   "source": [
    "sns.histplot(x='Output', stat='density', bins=20, color='steelblue', edgecolor='black', data=data_log)\n",
    "\n",
    "mu, sigma = norm.fit(np.array(data_log['Output'].dropna()))\n",
    "xmin, xmax = plt.xlim()\n",
    "domain = np.linspace(xmin, xmax, 1000)\n",
    "plt.plot(domain, norm.pdf(domain, mu, sigma), color='black', linewidth=2)"
   ]
  },
  {
   "cell_type": "markdown",
   "metadata": {},
   "source": [
    "### 3.3. Option 3: Remove Outliers and Log Transform"
   ]
  },
  {
   "cell_type": "code",
   "execution_count": 19,
   "metadata": {},
   "outputs": [
    {
     "data": {
      "text/plain": [
       "(8.226509152416233, 14.122465296644686)"
      ]
     },
     "execution_count": 19,
     "metadata": {},
     "output_type": "execute_result"
    }
   ],
   "source": [
    "mad = outliersMAD(data_log['Output'])\n",
    "mad"
   ]
  },
  {
   "cell_type": "code",
   "execution_count": 20,
   "metadata": {},
   "outputs": [],
   "source": [
    "data_rob_log = data_log.loc[(data_log['Output'] >= mad[0]) & (data_log['Output'] <= mad[1])]"
   ]
  },
  {
   "cell_type": "code",
   "execution_count": 21,
   "metadata": {},
   "outputs": [
    {
     "data": {
      "text/plain": [
       "<AxesSubplot:xlabel='Output', ylabel='Density'>"
      ]
     },
     "execution_count": 21,
     "metadata": {},
     "output_type": "execute_result"
    },
    {
     "data": {
      "text/plain": [
       "[<matplotlib.lines.Line2D at 0x194d85cd088>]"
      ]
     },
     "execution_count": 21,
     "metadata": {},
     "output_type": "execute_result"
    },
    {
     "data": {
      "image/png": "[encoded data removed]",
      "text/plain": [
       "<Figure size 432x288 with 1 Axes>"
      ]
     },
     "metadata": {
      "needs_background": "light"
     },
     "output_type": "display_data"
    }
   ],
   "source": [
    "sns.histplot(x='Output', stat='density', bins=20, color='steelblue', edgecolor='black', data=data_rob_log)\n",
    "\n",
    "mu, sigma = norm.fit(np.array(data_rob_log['Output'].dropna()))\n",
    "xmin, xmax = plt.xlim()\n",
    "domain = np.linspace(xmin, xmax, 1000)\n",
    "plt.plot(domain, norm.pdf(domain, mu, sigma), color='black', linewidth=2)"
   ]
  },
  {
   "cell_type": "markdown",
   "metadata": {},
   "source": [
    "# 4. Export Dataset"
   ]
  },
  {
   "cell_type": "code",
   "execution_count": 22,
   "metadata": {},
   "outputs": [],
   "source": [
    "data.to_csv(r'C:\\Users\\Work\\Desktop\\MS Pub\\GSA\\grackle_20k8p_illinois_skewed.csv', header=True, index=False)\n",
    "data_rob.to_csv(r'C:\\Users\\Work\\Desktop\\MS Pub\\GSA\\grackle_20k8p_illinois_rob.csv', header=True, index=False)\n",
    "data_log.to_csv(r'C:\\Users\\Work\\Desktop\\MS Pub\\GSA\\grackle_20k8p_illinois_log.csv', header=True, index=False)\n",
    "data_rob_log.to_csv(r'C:\\Users\\Work\\Desktop\\MS Pub\\GSA\\grackle_20k8p_illinois_rob_log.csv', header=True, index=False)"
   ]
  },
  {
   "cell_type": "code",
   "execution_count": null,
   "metadata": {},
   "outputs": [],
   "source": []
  }
 ],
 "metadata": {
  "kernelspec": {
   "display_name": "Python 3",
   "language": "python",
   "name": "python3"
  },
  "language_info": {
   "codemirror_mode": {
    "name": "ipython",
    "version": 3
   },
   "file_extension": ".py",
   "mimetype": "text/x-python",
   "name": "python",
   "nbconvert_exporter": "python",
   "pygments_lexer": "ipython3",
   "version": "3.7.9"
  }
 },
 "nbformat": 4,
 "nbformat_minor": 4
}
